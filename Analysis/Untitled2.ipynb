{
  "metadata": {
    "kernelspec": {
      "name": "python",
      "display_name": "Python (Pyodide)",
      "language": "python"
    },
    "language_info": {
      "codemirror_mode": {
        "name": "python",
        "version": 3
      },
      "file_extension": ".py",
      "mimetype": "text/x-python",
      "name": "python",
      "nbconvert_exporter": "python",
      "pygments_lexer": "ipython3",
      "version": "3.8"
    }
  },
  "nbformat_minor": 5,
  "nbformat": 4,
  "cells": [
    {
      "id": "9d657e0d-0c04-4055-ba4f-ad56c3d9355c",
      "cell_type": "code",
      "source": "import pandas as pd\nimport matplotlib.pyplot as plt\nimport numpy as np\n\nplt.style.use('ggplot')\nplt.rcParams['font.size'] = 12\n\ndef load_data(filename):\n    \"\"\"Загрузка данных из файла\"\"\"\n    try:\n        df = pd.read_csv(filename)\n        print(\"Данные успешно загружены. Пример данных:\")\n        print(df.head())\n        return df\n    except Exception as e:\n        print(f\"Ошибка при загрузке файла: {e}\")\n        return None\n\ndef save_plot(fig, ax, filename):\n    \"\"\"Сохраняет график без белого фона\"\"\"\n    ax.set_facecolor('none')\n    fig.patch.set_alpha(0.0)\n    fig.savefig(filename, \n               bbox_inches='tight', \n               pad_inches=0.1, \n               transparent=True,\n               dpi=300)\n    plt.close(fig)\n\ndef plot_insertion_time(df):\n    \"\"\"График времени вставки\"\"\"\n    fig, ax = plt.subplots(figsize=(10, 6))\n    \n    for order in df['order'].unique():\n        for test_type in df['test_type'].unique():\n            subset = df[(df['order'] == order) & \n                      (df['test_type'] == test_type) & \n                      (df['operation'] == 'insert')]\n            if not subset.empty:\n                ax.plot(subset['array_size'], subset['time_ns'],\n                       marker='o' if order == 3 else 's' if order == 5 else '^',\n                       linestyle='-' if test_type == 'sequential' else '--',\n                       label=f'{test_type} (order={order})')\n    \n    ax.set_title('Время вставки в B-дерево')\n    ax.set_xlabel('Размер массива')\n    ax.set_ylabel('Время (нс)')\n    ax.set_xscale('log')\n    ax.set_yscale('log')\n    ax.legend()\n    ax.grid(True, alpha=0.3)\n    \n    save_plot(fig, ax, 'insertion_time.png')\n\ndef plot_search_existing(df):\n    \"\"\"График поиска существующих элементов\"\"\"\n    fig, ax = plt.subplots(figsize=(10, 6))\n    \n    for order in df['order'].unique():\n        subset = df[(df['order'] == order) & (df['operation'] == 'search_exist')]\n        if not subset.empty:\n            ax.plot(subset['array_size'], subset['time_ns'],\n                   marker='o' if order == 3 else 's' if order == 5 else '^',\n                   linestyle='-',\n                   label=f'Order {order}')\n    \n    ax.set_title('Поиск существующих элементов')\n    ax.set_xlabel('Размер массива')\n    ax.set_ylabel('Время (нс)')\n    ax.set_xscale('log')\n    ax.set_yscale('log')\n    ax.legend()\n    ax.grid(True, alpha=0.3)\n    \n    save_plot(fig, ax, 'search_existing.png')\n\ndef plot_search_missing(df):\n    \"\"\"График поиска отсутствующих элементов\"\"\"\n    fig, ax = plt.subplots(figsize=(10, 6))\n    \n    for order in df['order'].unique():\n        subset = df[(df['order'] == order) & (df['operation'] == 'search_miss')]\n        if not subset.empty:\n            ax.plot(subset['array_size'], subset['time_ns'],\n                   marker='o' if order == 3 else 's' if order == 5 else '^',\n                   linestyle='-',\n                   label=f'Order {order}')\n    \n    ax.set_title('Поиск отсутствующих элементов')\n    ax.set_xlabel('Размер массива')\n    ax.set_ylabel('Время (нс)')\n    ax.set_xscale('log')\n    ax.set_yscale('log')\n    ax.legend()\n    ax.grid(True, alpha=0.3)\n    \n    save_plot(fig, ax, 'search_missing.png')\n\ndef plot_ratio(df):\n    \"\"\"График соотношения поиск/вставка\"\"\"\n    fig, ax = plt.subplots(figsize=(10, 6))\n    \n    pivot = df.pivot_table(index=['order', 'array_size'], \n                         columns='operation', values='time_ns').reset_index()\n    for order in df['order'].unique():\n        subset = pivot[pivot['order'] == order]\n        if not subset.empty:\n            ax.plot(subset['array_size'], subset['search_exist']/subset['insert'],\n                   marker='o', linestyle='-', label=f'Order {order}')\n    \n    ax.set_title('Соотношение время поиска/вставки')\n    ax.set_xlabel('Размер массива')\n    ax.set_ylabel('Отношение (поиск/вставка)')\n    ax.set_xscale('log')\n    ax.legend()\n    ax.grid(True, alpha=0.3)\n    \n    save_plot(fig, ax, 'search_insert_ratio.png')\n\nif __name__ == \"__main__\":\n    df = load_data(\"res2.txt\")\n    if df is not None:\n        plot_insertion_time(df)\n        plot_search_existing(df)\n        plot_search_missing(df)\n        plot_ratio(df)\n        print(\"Графики сохранены как отдельные PNG-файлы\")",
      "metadata": {
        "trusted": true
      },
      "outputs": [
        {
          "name": "stderr",
          "output_type": "stream",
          "text": "Matplotlib is building the font cache; this may take a moment.\n"
        },
        {
          "name": "stdout",
          "output_type": "stream",
          "text": "Данные успешно загружены. Пример данных:\n    test_type  order  array_size     operation  time_ns\n0  sequential      3         500        insert    13563\n1  sequential      3         500  search_exist    12693\n2  sequential      3         500   search_miss    12610\n3  sequential      3        1000        insert    11034\n4  sequential      3        1000  search_exist    15733\nГрафики сохранены как отдельные PNG-файлы\n"
        }
      ],
      "execution_count": 1
    },
    {
      "id": "edd54e2f-80c3-470f-b3cc-44c18cb49d3a",
      "cell_type": "code",
      "source": "",
      "metadata": {
        "trusted": true
      },
      "outputs": [],
      "execution_count": null
    },
    {
      "id": "f2bbbf4a-194b-49e8-b42c-230b9cdc2cd5",
      "cell_type": "code",
      "source": "",
      "metadata": {
        "trusted": true
      },
      "outputs": [],
      "execution_count": null
    }
  ]
}